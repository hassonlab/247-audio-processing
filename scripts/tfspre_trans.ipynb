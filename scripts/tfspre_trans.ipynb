{
 "cells": [
  {
   "cell_type": "code",
   "execution_count": 1,
   "metadata": {},
   "outputs": [],
   "source": [
    "import os\n",
    "import glob\n",
    "import pandas as pd\n",
    "import numpy as np\n",
    "import math\n",
    "\n",
    "import matplotlib.pyplot as plt\n",
    "import seaborn as sns\n",
    "from matplotlib.backends.backend_pdf import PdfPages"
   ]
  },
  {
   "cell_type": "markdown",
   "metadata": {},
   "source": [
    "## VAD"
   ]
  },
  {
   "cell_type": "code",
   "execution_count": 2,
   "metadata": {},
   "outputs": [
    {
     "data": {
      "text/html": [
       "<div>\n",
       "<style scoped>\n",
       "    .dataframe tbody tr th:only-of-type {\n",
       "        vertical-align: middle;\n",
       "    }\n",
       "\n",
       "    .dataframe tbody tr th {\n",
       "        vertical-align: top;\n",
       "    }\n",
       "\n",
       "    .dataframe thead th {\n",
       "        text-align: right;\n",
       "    }\n",
       "</style>\n",
       "<table border=\"1\" class=\"dataframe\">\n",
       "  <thead>\n",
       "    <tr style=\"text-align: right;\">\n",
       "      <th></th>\n",
       "      <th>sid</th>\n",
       "      <th>conv_idx</th>\n",
       "      <th>vad</th>\n",
       "      <th>osd</th>\n",
       "      <th>audio_len</th>\n",
       "    </tr>\n",
       "  </thead>\n",
       "  <tbody>\n",
       "    <tr>\n",
       "      <th>0</th>\n",
       "      <td>625</td>\n",
       "      <td>0</td>\n",
       "      <td>200.899830</td>\n",
       "      <td>16.027165</td>\n",
       "      <td>495.033220</td>\n",
       "    </tr>\n",
       "    <tr>\n",
       "      <th>1</th>\n",
       "      <td>625</td>\n",
       "      <td>1</td>\n",
       "      <td>136.638370</td>\n",
       "      <td>25.229202</td>\n",
       "      <td>146.628912</td>\n",
       "    </tr>\n",
       "    <tr>\n",
       "      <th>2</th>\n",
       "      <td>625</td>\n",
       "      <td>2</td>\n",
       "      <td>138.760611</td>\n",
       "      <td>26.349745</td>\n",
       "      <td>387.105488</td>\n",
       "    </tr>\n",
       "    <tr>\n",
       "      <th>3</th>\n",
       "      <td>625</td>\n",
       "      <td>3</td>\n",
       "      <td>77.860781</td>\n",
       "      <td>6.061121</td>\n",
       "      <td>287.652381</td>\n",
       "    </tr>\n",
       "    <tr>\n",
       "      <th>4</th>\n",
       "      <td>625</td>\n",
       "      <td>4</td>\n",
       "      <td>2287.792869</td>\n",
       "      <td>251.222411</td>\n",
       "      <td>3532.732449</td>\n",
       "    </tr>\n",
       "    <tr>\n",
       "      <th>...</th>\n",
       "      <td>...</td>\n",
       "      <td>...</td>\n",
       "      <td>...</td>\n",
       "      <td>...</td>\n",
       "      <td>...</td>\n",
       "    </tr>\n",
       "    <tr>\n",
       "      <th>165</th>\n",
       "      <td>7170</td>\n",
       "      <td>20</td>\n",
       "      <td>1600.033956</td>\n",
       "      <td>147.164686</td>\n",
       "      <td>2052.994059</td>\n",
       "    </tr>\n",
       "    <tr>\n",
       "      <th>166</th>\n",
       "      <td>7170</td>\n",
       "      <td>21</td>\n",
       "      <td>6487.572156</td>\n",
       "      <td>876.893039</td>\n",
       "      <td>7394.621383</td>\n",
       "    </tr>\n",
       "    <tr>\n",
       "      <th>167</th>\n",
       "      <td>7170</td>\n",
       "      <td>22</td>\n",
       "      <td>2404.770798</td>\n",
       "      <td>184.414261</td>\n",
       "      <td>3673.086893</td>\n",
       "    </tr>\n",
       "    <tr>\n",
       "      <th>168</th>\n",
       "      <td>7170</td>\n",
       "      <td>23</td>\n",
       "      <td>666.468591</td>\n",
       "      <td>41.816638</td>\n",
       "      <td>1937.280431</td>\n",
       "    </tr>\n",
       "    <tr>\n",
       "      <th>169</th>\n",
       "      <td>7170</td>\n",
       "      <td>24</td>\n",
       "      <td>184.346350</td>\n",
       "      <td>10.067912</td>\n",
       "      <td>950.572562</td>\n",
       "    </tr>\n",
       "  </tbody>\n",
       "</table>\n",
       "<p>170 rows × 5 columns</p>\n",
       "</div>"
      ],
      "text/plain": [
       "      sid  conv_idx          vad         osd    audio_len\n",
       "0     625         0   200.899830   16.027165   495.033220\n",
       "1     625         1   136.638370   25.229202   146.628912\n",
       "2     625         2   138.760611   26.349745   387.105488\n",
       "3     625         3    77.860781    6.061121   287.652381\n",
       "4     625         4  2287.792869  251.222411  3532.732449\n",
       "..    ...       ...          ...         ...          ...\n",
       "165  7170        20  1600.033956  147.164686  2052.994059\n",
       "166  7170        21  6487.572156  876.893039  7394.621383\n",
       "167  7170        22  2404.770798  184.414261  3673.086893\n",
       "168  7170        23   666.468591   41.816638  1937.280431\n",
       "169  7170        24   184.346350   10.067912   950.572562\n",
       "\n",
       "[170 rows x 5 columns]"
      ]
     },
     "execution_count": 2,
     "metadata": {},
     "output_type": "execute_result"
    }
   ],
   "source": [
    "vad = pd.read_csv(\"../summary_vad.csv\")\n",
    "vad"
   ]
  },
  {
   "cell_type": "markdown",
   "metadata": {},
   "source": [
    "## Data Loading"
   ]
  },
  {
   "cell_type": "code",
   "execution_count": null,
   "metadata": {},
   "outputs": [],
   "source": [
    "sids = [625,676,7170,798]\n",
    "model = \"large-v2-x\"\n",
    "\n",
    "def load_results(sids, model, data_dir):\n",
    "    df = pd.DataFrame()\n",
    "    for sid in sids:\n",
    "        sid_file = os.path.join(data_dir, f\"{sid}-{model}.csv\")\n",
    "        sid_df = pd.read_csv(sid_file)\n",
    "        sid_df[\"sid\"] = sid\n",
    "        df = pd.concat((df,sid_df))\n",
    "    return df\n",
    "\n",
    "data_dir = \"../data/preprocessing/20231219-second/\"\n",
    "df1 = load_results(sids, model, data_dir)\n",
    "data_dir = \"../data/preprocessing/20240115-third\"\n",
    "df = load_results(sids, model, data_dir)"
   ]
  },
  {
   "cell_type": "code",
   "execution_count": null,
   "metadata": {},
   "outputs": [],
   "source": [
    "for sid in sids:\n",
    "    df3 = df1[df1[\"sid\"] == sid]\n",
    "    df4 = df2[df2[\"sid\"] == sid]\n",
    "    df3 = df3[df3[\"wer\"] <= 2]\n",
    "    df4 = df4[df4[\"wer\"] <= 2]\n",
    "    print(len(df3), len(df4))\n",
    "    sns.set_style('whitegrid')\n",
    "    # fig, ax = plt.subplots(1,1) # histogram\n",
    "    # sns.histplot(\n",
    "    #     df3, x=\"wer\", alpha=0.7, bins=20, binrange=[0,2]\n",
    "    # )\n",
    "    # # sns.histplot(\n",
    "    # #     df4, x=\"wer\", alpha=0.5\n",
    "    # # )\n",
    "    # plt.savefig(f\"{sid}.jpeg\")\n",
    "\n",
    "    # fig, ax = plt.subplots(1,1) # scatter\n",
    "    # ax.plot([0, 1], [0, 1], transform=ax.transAxes)\n",
    "    # plt.scatter(df3[\"wer\"], df4[\"wer\"], s=5, marker=\"o\")\n",
    "    # ax.set_ylim(0,10)\n",
    "    # ax.set_xlim(0,10)\n",
    "    # ax.set_xlabel(\"Original\")\n",
    "    # ax.set_ylabel(\"Filter Inaud\")\n",
    "    # plt.savefig(f\"{sid}.jpeg\")\n",
    "\n",
    "    fig, ax = plt.subplots(1,1) # scatter\n",
    "    # ax.plot([0, 1], [0, 1], transform=ax.transAxes)\n",
    "    plt.scatter(df2[\"score_75\"], df2[\"wer\"], s=5)\n",
    "    ax.set_ylim(0,2)\n",
    "    ax.set_xlim(0.5,1)\n",
    "    ax.set_xlabel(\"Accuracy_75\")\n",
    "    ax.set_ylabel(\"WER\")\n",
    "    plt.savefig(f\"{sid}.jpeg\")"
   ]
  },
  {
   "cell_type": "code",
   "execution_count": null,
   "metadata": {},
   "outputs": [],
   "source": [
    "fig, axes = plt.subplots(4,1, figsize=(20,30))\n",
    "\n",
    "sns.boxplot(data=df1,x=\"sid\",y=\"gt_word_num\",ax=axes[0])\n",
    "sns.boxplot(data=df1,x=\"sid\",y=\"pr_word_num\",ax=axes[1])\n",
    "sns.boxplot(data=df1,x=\"sid\",y=\"gt_speaker\",ax=axes[2])\n",
    "sns.boxplot(data=df1,x=\"sid\",y=\"pr_speaker\",ax=axes[3])\n"
   ]
  },
  {
   "cell_type": "code",
   "execution_count": null,
   "metadata": {},
   "outputs": [],
   "source": [
    "df2"
   ]
  },
  {
   "cell_type": "markdown",
   "metadata": {},
   "source": [
    "## Compare with Human Transcript\n",
    "\n",
    "For whisper paper"
   ]
  },
  {
   "cell_type": "code",
   "execution_count": null,
   "metadata": {},
   "outputs": [],
   "source": [
    "paper_results = \"../data/preprocessing/paper_results.csv\"\n",
    "paper_df = pd.read_csv(paper_results)"
   ]
  },
  {
   "cell_type": "code",
   "execution_count": null,
   "metadata": {},
   "outputs": [],
   "source": [
    "print(paper_df.hu_wer.describe())\n",
    "print(paper_df.wx_wer.describe())"
   ]
  },
  {
   "cell_type": "code",
   "execution_count": null,
   "metadata": {},
   "outputs": [],
   "source": [
    "plt.close()\n",
    "fig, ax = plt.subplots(1,1)\n",
    "sns.set_style('whitegrid')\n",
    "sns.histplot(\n",
    "    paper_df[paper_df.hu_wer <= 2], x=\"hu_wer\"\n",
    ")\n",
    "sns.histplot(\n",
    "    paper_df[paper_df.hu_wer <= 2], x=\"wx_wer\"\n",
    ")\n",
    "# sns.histplot(\n",
    "#     paper_df[paper_df.hu_wer <= 2], x=\"huwx_wer\"\n",
    "# )\n",
    "plt.show()\n",
    "# plt.savefig(f\"{sid}.jpeg\")"
   ]
  },
  {
   "cell_type": "markdown",
   "metadata": {},
   "source": [
    "## Select Chunk Pilot"
   ]
  },
  {
   "cell_type": "code",
   "execution_count": null,
   "metadata": {},
   "outputs": [],
   "source": [
    "import whisper\n",
    "import scipy.io.wavfile as wavfile\n",
    "\n",
    "df_chunk = df[df.gt_word_num >= 800].copy()\n",
    "df_chunk.sort_values(by=[\"wer\"],ascending=True,inplace=True)\n",
    "# df_chunk.groupby(df_chunk.sid).first()\n",
    "selected = df_chunk.groupby(df_chunk.sid).first()\n",
    "selected.reset_index(inplace=True)"
   ]
  },
  {
   "cell_type": "markdown",
   "metadata": {},
   "source": [
    "## Select Chunk Mturk"
   ]
  },
  {
   "cell_type": "code",
   "execution_count": null,
   "metadata": {},
   "outputs": [],
   "source": [
    "# df_chunk = df[df.chunk == \"(0.0, 300.0]\"]\n",
    "# df_chunk = df_chunk[(df_chunk.gt_word_num >= 207) & (df_chunk.gt_word_num <= 622)]\n",
    "# df_chunk = df_chunk[df_chunk.sid != 798]\n",
    "# df_chunk = df_chunk.groupby(\"sid\").apply(lambda x: x.sample(n=6)).reset_index(drop = True)\n",
    "# df_chunk.wer.describe()"
   ]
  },
  {
   "cell_type": "code",
   "execution_count": null,
   "metadata": {},
   "outputs": [],
   "source": [
    "df_chunk = pd.DataFrame()\n",
    "for sid in [625,676,7170,798]:\n",
    "    df_798 = df[df.sid==sid]\n",
    "    df_798 = df_798.groupby(\"conversation\").first().reset_index()\n",
    "    df_798 = df_798.sample(n=15)\n",
    "    transcript_dir = f\"/scratch/gpfs/kw1166/whisper-transcribe/data/tfs/{sid}/\"\n",
    "    starts = []\n",
    "    for conversation in df_798.conversation.tolist():\n",
    "        trans_file = glob.glob(os.path.join(transcript_dir,f\"{conversation}*\"))\n",
    "        conv_df = pd.read_csv(\n",
    "            trans_file[0],\n",
    "            sep=\" \",\n",
    "            header=None,\n",
    "            names=[\"word\", \"onset\", \"offset\", \"accuracy\", \"speaker\"],\n",
    "        )\n",
    "        conv_df[\"start\"] = (conv_df.onset + 3000) / 512\n",
    "        conv_df[\"utt_start\"] = conv_df.speaker.ne(conv_df.speaker.shift())\n",
    "        print(conversation)\n",
    "        print(len(conv_df))\n",
    "        conv_df = conv_df[conv_df.utt_start]\n",
    "        conv_df = conv_df[conv_df.speaker == \"Speaker1\"]\n",
    "        try:\n",
    "            starts.append(math.floor(conv_df[\"start\"].iloc[0]))\n",
    "        except:\n",
    "            starts.append(-1)\n",
    "    starts = [f\"({start},3000]\" for start in starts]\n",
    "    df_798.chunk = starts\n",
    "    df_chunk = pd.concat((df_chunk, df_798))"
   ]
  },
  {
   "cell_type": "code",
   "execution_count": null,
   "metadata": {},
   "outputs": [],
   "source": [
    "df_chunk = df_chunk[~df_chunk.chunk.str.contains(\"(-1)\")]"
   ]
  },
  {
   "cell_type": "code",
   "execution_count": null,
   "metadata": {},
   "outputs": [],
   "source": [
    "# selected = pd.concat((df_chunk, df_798))\n",
    "selected = df_chunk\n",
    "selected.to_csv(\"../mturk_chunk2.csv\",index=False)"
   ]
  },
  {
   "cell_type": "code",
   "execution_count": null,
   "metadata": {},
   "outputs": [],
   "source": [
    "def load_audio(filepath):\n",
    "    fs, audio = wavfile.read(filepath)\n",
    "    print(f\"Sampling rate: {fs}\")\n",
    "    print(f\"Audio Length (s): {len(audio) / fs}\")\n",
    "    return fs, audio"
   ]
  },
  {
   "cell_type": "code",
   "execution_count": null,
   "metadata": {},
   "outputs": [],
   "source": [
    "conv_dir = \"/projects/HASSON/247/data/conversations-car/\"\n",
    "\n",
    "conversations = selected.conversation.tolist()\n",
    "chunks = selected.chunk.tolist()\n",
    "sids = selected.sid.tolist()\n",
    "for sid, conv, chunk in zip(sids, conversations, chunks):\n",
    "    chunk_onset = float(chunk[chunk.find(\"(\")+1:chunk.find(\",\")])\n",
    "    chunk_offset = float(chunk[chunk.find(\",\")+2:chunk.find(\"]\")])\n",
    "\n",
    "    print(f\"{sid} {conv} {chunk_onset} s to {chunk_offset} s\")\n",
    "    audio_path = os.path.join(conv_dir, str(sid), conv, \"audio\", f\"{conv}_deid.wav\")\n",
    "    \n",
    "    # With whisper fs\n",
    "    # audio = whisper.load_audio(audio_path)\n",
    "    # sampling_rate = 16000\n",
    "    # chunk_data = audio[\n",
    "    #     int(chunk_onset * sampling_rate) : int((chunk_onset + 30) * sampling_rate)\n",
    "    # ]\n",
    "    # new_audio = whisper.pad_or_trim(chunk_data)\n",
    "    # chunk_name = f\"../{sid}_sample_30s_wfs.wav\"\n",
    "    # wavfile.write(chunk_name, sampling_rate, chunk_data)\n",
    "\n",
    "    # With original fs\n",
    "    sampling_rate, full_audio = load_audio(audio_path)\n",
    "    chunk_data2 = full_audio[\n",
    "        int(chunk_onset * sampling_rate) : int((chunk_onset + 30) * sampling_rate)\n",
    "    ]\n",
    "    chunk_name = f\"../{sid}_{conv}.wav\"\n",
    "    wavfile.write(chunk_name, sampling_rate, chunk_data2)"
   ]
  },
  {
   "cell_type": "markdown",
   "metadata": {},
   "source": [
    "## Plot mturk results"
   ]
  },
  {
   "cell_type": "code",
   "execution_count": 74,
   "metadata": {},
   "outputs": [],
   "source": [
    "datafile = \"/projects/HASSON/247/data/mturk/2024-02-09-wer-results/Alltask_eval.csv\"\n",
    "mturk_df = pd.read_csv(datafile)\n",
    "first_df = mturk_df[mturk_df.attempt == \"first\"].reset_index()\n",
    "second_df = mturk_df[mturk_df.attempt == \"second\"].reset_index()\n",
    "pdf = PdfPages(\"../mturk_results.pdf\")"
   ]
  },
  {
   "cell_type": "markdown",
   "metadata": {},
   "source": [
    "### Histograms"
   ]
  },
  {
   "cell_type": "code",
   "execution_count": 75,
   "metadata": {},
   "outputs": [],
   "source": [
    "df_plot_whisper = pd.DataFrame({\"WER\":second_df.whisper, \"type\":\"whisper\"})\n",
    "df_plot_hu1 = pd.DataFrame({\"WER\":second_df.hu1, \"type\":\"human 1\"})\n",
    "df_plot_hu2 = pd.DataFrame({\"WER\":second_df.hu2, \"type\":\"human 2\"})\n",
    "df_plot = pd.concat((df_plot_whisper,df_plot_hu1,df_plot_hu2))\n",
    "df_plot\n",
    "\n",
    "fig, ax = plt.subplots()\n",
    "sns.histplot(df_plot, x=\"WER\",hue=\"type\", palette=\"hls\", bins=20, ec=None, ax=ax)\n",
    "pdf.savefig(fig)\n",
    "plt.close()\n",
    "fig, ax = plt.subplots()\n",
    "sns.histplot(df_plot, x=\"WER\",hue=\"type\", palette=\"hls\", bins=50, ec=None, ax=ax)\n",
    "pdf.savefig(fig)\n",
    "plt.close()"
   ]
  },
  {
   "cell_type": "markdown",
   "metadata": {},
   "source": [
    "### Scatter plots"
   ]
  },
  {
   "cell_type": "code",
   "execution_count": 76,
   "metadata": {},
   "outputs": [],
   "source": [
    "fig, ax = plt.subplots()\n",
    "ax.plot([0, 1], [0, 1], transform=ax.transAxes)\n",
    "plt.scatter(second_df[\"whisper\"], second_df[\"hu1\"], s=10)\n",
    "ax.set_title(\"Whisper vs Hu1\")\n",
    "ax.set_xlabel(\"Whisper WER\")\n",
    "ax.set_ylabel(\"Human 2 WER\")\n",
    "pdf.savefig(fig)\n",
    "plt.close()\n",
    "\n",
    "fig, ax = plt.subplots()\n",
    "ax.plot([0, 1], [0, 1], transform=ax.transAxes)\n",
    "plt.scatter(second_df[\"whisper\"], second_df[\"hu2\"], s=10)\n",
    "ax.set_title(\"Whisper vs Hu2\")\n",
    "ax.set_xlabel(\"Whisper WER\")\n",
    "ax.set_ylabel(\"Human 2 WER\")\n",
    "pdf.savefig(fig)\n",
    "plt.close()"
   ]
  },
  {
   "cell_type": "code",
   "execution_count": 77,
   "metadata": {},
   "outputs": [],
   "source": [
    "df_plot_hu1 = pd.DataFrame({\"WER1\":first_df.hu1,\"WER2\":second_df.hu1, \"certainty1\":first_df.hu1_acc, \"certainty2\":second_df.hu1_acc, \"comp1\":first_df.hu1_comp, \"comp2\":second_df.hu1_comp})\n",
    "df_plot_hu2 = pd.DataFrame({\"WER1\":first_df.hu2,\"WER2\":second_df.hu2, \"certainty1\":first_df.hu2_acc, \"certainty2\":second_df.hu2_acc, \"comp1\":first_df.hu2_comp, \"comp2\":second_df.hu2_comp})\n",
    "df_plot = pd.concat((df_plot_hu1,df_plot_hu2))\n",
    "\n",
    "fig, ax = plt.subplots()\n",
    "plt.scatter(df_plot[\"certainty2\"], df_plot[\"WER2\"], s=10)\n",
    "ax.set_title(\"WER vs certainty\")\n",
    "ax.set_xlabel(\"Certainty\")\n",
    "ax.set_ylabel(\"Human WER\")\n",
    "pdf.savefig(fig)\n",
    "plt.close()\n",
    "\n",
    "fig, ax = plt.subplots()\n",
    "plt.scatter(df_plot[\"comp2\"], df_plot[\"WER2\"], s=10)\n",
    "ax.set_title(\"WER vs comprehension\")\n",
    "ax.set_xlabel(\"Comprehension\")\n",
    "ax.set_ylabel(\"Human WER\")\n",
    "pdf.savefig(fig)\n",
    "plt.close()"
   ]
  },
  {
   "cell_type": "code",
   "execution_count": 78,
   "metadata": {},
   "outputs": [],
   "source": [
    "fig, ax = plt.subplots()\n",
    "plt.scatter(df_plot[\"certainty1\"]-df_plot[\"certainty2\"], df_plot[\"WER1\"]-df_plot[\"WER2\"], s=10)\n",
    "ax.set_title(\"WER diff vs certainty diff\")\n",
    "ax.set_xlabel(\"Certainty decrease over two trials\")\n",
    "ax.set_ylabel(\"Human WER decrease over two trials\")\n",
    "pdf.savefig(fig)\n",
    "plt.close()\n",
    "\n",
    "fig, ax = plt.subplots()\n",
    "plt.scatter(df_plot[\"comp1\"]-df_plot[\"comp2\"], df_plot[\"WER1\"]-df_plot[\"WER2\"], s=10)\n",
    "ax.set_title(\"WER diff vs comprehension diff\")\n",
    "ax.set_xlabel(\"Comprehension decrease over two trials\")\n",
    "ax.set_ylabel(\"Human WER decrease over two trials\")\n",
    "pdf.savefig(fig)\n",
    "plt.close()"
   ]
  },
  {
   "cell_type": "code",
   "execution_count": null,
   "metadata": {},
   "outputs": [],
   "source": [
    "pdf.close()"
   ]
  }
 ],
 "metadata": {
  "kernelspec": {
   "display_name": "Python 3",
   "language": "python",
   "name": "python3"
  },
  "language_info": {
   "codemirror_mode": {
    "name": "ipython",
    "version": 3
   },
   "file_extension": ".py",
   "mimetype": "text/x-python",
   "name": "python",
   "nbconvert_exporter": "python",
   "pygments_lexer": "ipython3",
   "version": "3.10.4"
  }
 },
 "nbformat": 4,
 "nbformat_minor": 2
}
