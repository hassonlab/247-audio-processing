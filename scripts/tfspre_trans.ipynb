{
 "cells": [
  {
   "cell_type": "code",
   "execution_count": null,
   "metadata": {},
   "outputs": [],
   "source": [
    "import os\n",
    "import glob\n",
    "import pandas as pd\n",
    "import numpy as np\n",
    "import math\n",
    "\n",
    "import matplotlib.pyplot as plt\n",
    "import seaborn as sns\n",
    "from sklearn.metrics.pairwise import cosine_similarity\n",
    "from matplotlib.backends.backend_pdf import PdfPages"
   ]
  },
  {
   "cell_type": "markdown",
   "metadata": {},
   "source": [
    "## VAD Summary"
   ]
  },
  {
   "cell_type": "code",
   "execution_count": null,
   "metadata": {},
   "outputs": [],
   "source": [
    "vad_df = pd.read_csv(\"../summary_vad.csv\")\n",
    "vad_df[\"vad_percent\"] = vad_df.vad / vad_df.audio_len\n",
    "vad_df[\"osd_percent\"] = vad_df.osd / vad_df.audio_len\n",
    "vad_df[\"sid\"] = vad_df.sid.astype(str)"
   ]
  },
  {
   "cell_type": "code",
   "execution_count": null,
   "metadata": {},
   "outputs": [],
   "source": [
    "fig, ax = plt.subplots(figsize=(20,10))\n",
    "sns.set_style(\"whitegrid\")\n",
    "sns.scatterplot(data=vad_df, x=\"vad_percent\", y=\"osd_percent\", size=\"sid\", sizes=(70,70), hue=\"sid\", palette=\"husl\")\n",
    "plt.savefig(\"../vad_vs_osd.png\")"
   ]
  },
  {
   "cell_type": "code",
   "execution_count": null,
   "metadata": {},
   "outputs": [],
   "source": [
    "vad_all_df = pd.read_csv(\"../all_vad.csv\")\n",
    "vad_all_df[\"sid\"] = vad_all_df.sid.astype(str)\n",
    "osd_all_df = vad_all_df.loc[vad_all_df.speaker == \"OVERLAP\", :]\n",
    "vad_all_df = vad_all_df.loc[vad_all_df.speaker == \"SPEECH\", :]"
   ]
  },
  {
   "cell_type": "code",
   "execution_count": null,
   "metadata": {},
   "outputs": [],
   "source": [
    "fig, ax = plt.subplots(figsize=(20,10))\n",
    "sns.set_style(\"whitegrid\")\n",
    "plt.yscale('log')\n",
    "plt.xscale('log')\n",
    "sns.histplot(data = osd_all_df.loc[osd_all_df.sid == \"798\",:], x=\"duration\", hue=\"sid\", palette=\"husl\",bins=100)\n",
    "plt.savefig(\"../798_osd.png\")"
   ]
  },
  {
   "cell_type": "markdown",
   "metadata": {},
   "source": [
    "## Diarization"
   ]
  },
  {
   "cell_type": "code",
   "execution_count": null,
   "metadata": {},
   "outputs": [],
   "source": [
    "dia_df = pd.read_csv(\"../summary_dia.csv\")\n",
    "dia_df[\"sid\"] = dia_df.sid.astype(str)\n",
    "dia_df"
   ]
  },
  {
   "cell_type": "code",
   "execution_count": null,
   "metadata": {},
   "outputs": [],
   "source": [
    "fig, ax = plt.subplots(figsize=(20,10))\n",
    "sns.set_style(\"whitegrid\")\n",
    "sns.scatterplot(data = dia_df, x=\"audio_len\", y=\"utt_num\", size=\"sid\", sizes=(70,70), hue=\"sid\", palette=\"husl\")\n",
    "plt.savefig(\"../speaker_utt_num.png\")"
   ]
  },
  {
   "cell_type": "code",
   "execution_count": null,
   "metadata": {},
   "outputs": [],
   "source": [
    "fig, ax = plt.subplots(figsize=(20,10))\n",
    "sns.set_style(\"whitegrid\")\n",
    "sns.scatterplot(data = dia_df, x=\"audio_len\", y=\"speaker_len\", size=\"sid\", sizes=(70,70), hue=\"sid\", palette=\"husl\")\n",
    "plt.savefig(\"../speaker_utt_len.png\")"
   ]
  },
  {
   "cell_type": "code",
   "execution_count": null,
   "metadata": {},
   "outputs": [],
   "source": [
    "fig, ax = plt.subplots(figsize=(20,10))\n",
    "plt.xscale('log')\n",
    "sns.set_style(\"whitegrid\")\n",
    "sns.histplot(data = dia_df, x=\"speaker_len\", hue=\"sid\", palette=\"husl\",bins=100)\n",
    "plt.savefig(\"../utt_len_hist.png\")"
   ]
  },
  {
   "cell_type": "code",
   "execution_count": null,
   "metadata": {},
   "outputs": [],
   "source": [
    "fig, ax = plt.subplots(figsize=(20,10))\n",
    "plt.xscale('log')\n",
    "sns.set_style(\"whitegrid\")\n",
    "sns.histplot(data = dia_df, x=\"utt_num\", hue=\"sid\", palette=\"husl\",bins=100)\n",
    "plt.savefig(\"../utt_num_hist.png\")"
   ]
  },
  {
   "cell_type": "markdown",
   "metadata": {},
   "source": [
    "## Speaker Embeddings"
   ]
  },
  {
   "cell_type": "code",
   "execution_count": null,
   "metadata": {},
   "outputs": [],
   "source": [
    "speaker_df = pd.read_csv(\"../summary_speaker.csv\")\n",
    "\n",
    "def process_emb(embs):\n",
    "    embs_new = []\n",
    "    for emb in embs:\n",
    "        emb = emb.split()\n",
    "        emb = [float(em.replace(\"[\",\"\").replace(\"]\",\"\").replace(\",\",\"\")) for em in emb]\n",
    "        embs_new.append(emb)\n",
    "    return embs_new\n",
    "\n",
    "speaker_df[\"emb\"] = process_emb(speaker_df.emb.tolist())\n",
    "\n",
    "speaker_625 = speaker_df.loc[speaker_df.sid == 625,:]\n",
    "speaker_676 = speaker_df.loc[speaker_df.sid == 676,:]\n",
    "speaker_798 = speaker_df.loc[speaker_df.sid == 798,:]\n",
    "speaker_7170 = speaker_df.loc[speaker_df.sid == 7170,:]"
   ]
  },
  {
   "cell_type": "code",
   "execution_count": null,
   "metadata": {},
   "outputs": [],
   "source": [
    "from sklearn.manifold import TSNE\n",
    "def do_tsne(df, col):\n",
    "    print(f\"Doing t-SNE on {col}\")\n",
    "    tsne = TSNE(n_components=2, perplexity=50, random_state=329)  # HACK\n",
    "    embs = pd.DataFrame(np.vstack(df[col]))\n",
    "    projections = pd.DataFrame(tsne.fit_transform(embs))\n",
    "    return projections\n",
    "\n",
    "tsne_speaker = do_tsne(speaker_798, \"emb\")\n",
    "speaker_798.reset_index(drop=True,inplace=True)\n",
    "speaker_798[\"tsne_x\"] = tsne_speaker[0]\n",
    "speaker_798[\"tsne_y\"] = tsne_speaker[1]\n",
    "speaker_798.to_csv(\"../speaker_798.csv\",index=False)"
   ]
  },
  {
   "cell_type": "code",
   "execution_count": null,
   "metadata": {},
   "outputs": [],
   "source": [
    "def plot_tsne(df, x, y, freq, color, title):\n",
    "    colors_distinct = [\n",
    "        \"#000000\",\n",
    "        \"#00FF00\",\n",
    "        \"#0000FF\",\n",
    "        \"#FF0000\",\n",
    "        \"#01FFFE\",\n",
    "        \"#FFA6FE\",\n",
    "        \"#774D00\",\n",
    "        \"#006401\",\n",
    "        \"#010067\",\n",
    "        \"#95003A\",\n",
    "        \"#007DB5\",\n",
    "        \"#FF00F6\",\n",
    "        \"#FFEEE8\",\n",
    "        \"#FFDB66\",\n",
    "        \"#90FB92\",\n",
    "        \"#0076FF\",\n",
    "        \"#D5FF00\",\n",
    "        \"#FF937E\",\n",
    "        \"#6A826C\",\n",
    "        \"#FF029D\",\n",
    "        \"#FE8900\",\n",
    "        \"#7A4782\",\n",
    "        \"#7E2DD2\",\n",
    "        \"#85A900\",\n",
    "        \"#FF0056\",\n",
    "        \"#A42400\",\n",
    "        \"#00AE7E\",\n",
    "        \"#683D3B\",\n",
    "        \"#BDC6FF\",\n",
    "        \"#263400\",\n",
    "        \"#BDD393\",\n",
    "        \"#00B917\",\n",
    "        \"#9E008E\",\n",
    "        \"#001544\",\n",
    "        \"#C28C9F\",\n",
    "        \"#FF74A3\",\n",
    "        \"#01D0FF\",\n",
    "        \"#004754\",\n",
    "        \"#E56FFE\",\n",
    "        \"#788231\",\n",
    "        \"#0E4CA1\",\n",
    "        \"#91D0CB\",\n",
    "        \"#BE9970\",\n",
    "        \"#968AE8\",\n",
    "        \"#BB8800\",\n",
    "        \"#43002C\",\n",
    "        \"#DEFF74\",\n",
    "        \"#00FFC6\",\n",
    "        \"#FFE502\",\n",
    "        \"#620E00\",\n",
    "        \"#008F9C\",\n",
    "        \"#98FF52\",\n",
    "        \"#7544B1\",\n",
    "        \"#B500FF\",\n",
    "        \"#00FF78\",\n",
    "        \"#FF6E41\",\n",
    "        \"#005F39\",\n",
    "        \"#6B6882\",\n",
    "        \"#5FAD4E\",\n",
    "        \"#A75740\",\n",
    "        \"#A5FFD2\",\n",
    "        \"#FFB167\",\n",
    "        \"#009BFF\",\n",
    "        \"#E85EBE\",\n",
    "    ]\n",
    "    df2 = df.copy()\n",
    "    g = df.groupby(df[color])\n",
    "    df2 = g.filter(lambda x: len(x) >= freq)\n",
    "    df2[\"freq\"] = df2.groupby(df2[color])[color].transform(\"count\")\n",
    "    df2.sort_values(\"freq\", inplace=True, ascending=False)\n",
    "    df2[\"marker\"] = 1\n",
    "    # plt.style.use(\"/scratch/gpfs/ln1144/247-plotting/scripts/paper.mlpstyle\")\n",
    "    sns.scatterplot(\n",
    "        data=df2,\n",
    "        x=df2[x],\n",
    "        y=df2[y],\n",
    "        hue=df2[color],\n",
    "        palette=colors_distinct[0 : len(df2[color].unique())],\n",
    "        linewidth=0,\n",
    "        style=df2[\"marker\"],\n",
    "        s=10,\n",
    "        markers=[\"o\"],\n",
    "    )\n",
    "    plt.title(f\"{title}\")\n",
    "    # plt.show()\n",
    "    plt.savefig(f\"{title}.svg\")\n",
    "    plt.close()\n",
    "    return\n",
    "\n",
    "plot_tsne(speaker_625, \"tsne_x\", \"tsne_y\", 1, \"conv_idx\", \"../results/625_tsne\")\n",
    "plot_tsne(speaker_676, \"tsne_x\", \"tsne_y\", 1, \"conv_idx\", \"../results/676_tsne\")\n",
    "plot_tsne(speaker_7170, \"tsne_x\", \"tsne_y\", 1, \"conv_idx\", \"../results/7170_tsne\")\n",
    "plot_tsne(speaker_798, \"tsne_x\", \"tsne_y\", 1, \"conv_idx\", \"../results/798_tsne\")"
   ]
  },
  {
   "cell_type": "code",
   "execution_count": null,
   "metadata": {},
   "outputs": [],
   "source": [
    "speaker_625_2 = speaker_625.loc[speaker_625.conv_idx == 2,:]\n",
    "speaker_625_5 = speaker_625.loc[speaker_625.conv_idx == 5,:]\n",
    "speaker_625_6 = speaker_625.loc[speaker_625.conv_idx == 6,:]\n",
    "speaker_625_10 = speaker_625.loc[speaker_625.conv_idx == 10,:]\n",
    "speaker_625_51 = speaker_625.loc[speaker_625.conv_idx == 51,:]\n",
    "\n",
    "emb2 = speaker_625_2.emb.tolist()\n",
    "emb5 = speaker_625_5.emb.tolist()\n",
    "emb6 = speaker_625_6.emb.tolist()\n",
    "emb10 = speaker_625_10.emb.tolist()\n",
    "emb51 = speaker_625_51.emb.tolist()"
   ]
  },
  {
   "cell_type": "code",
   "execution_count": null,
   "metadata": {},
   "outputs": [],
   "source": [
    "cmap = \"viridis_r\"\n",
    "\n",
    "fig, ax = plt.subplots(figsize=(20,10))\n",
    "sns.heatmap(cosine_similarity(emb2, emb2), cmap=cmap)\n",
    "plt.savefig(\"conv2 vs conv2.png\")\n",
    "fig, ax = plt.subplots(figsize=(20,10))\n",
    "sns.heatmap(cosine_similarity(emb5, emb5), cmap=cmap)\n",
    "plt.savefig(\"conv5 vs conv5.png\")\n",
    "fig, ax = plt.subplots(figsize=(20,10))\n",
    "sns.heatmap(cosine_similarity(emb6, emb6), cmap=cmap)\n",
    "plt.savefig(\"conv6 vs conv6.png\")\n",
    "fig, ax = plt.subplots(figsize=(20,10))\n",
    "sns.heatmap(cosine_similarity(emb10, emb10), cmap=cmap)\n",
    "plt.savefig(\"conv5 vs conv5.png\")\n",
    "sns.heatmap(cosine_similarity(emb2, emb6), cmap=cmap)\n",
    "plt.savefig(\"conv2 vs conv6.png\")\n",
    "fig, ax = plt.subplots(figsize=(20,10))\n",
    "sns.heatmap(cosine_similarity(emb5, emb10), cmap=cmap)\n",
    "plt.savefig(\"conv5 vs conv10.png\")\n",
    "fig, ax = plt.subplots(figsize=(20,10))\n",
    "sns.heatmap(cosine_similarity(emb2, emb10), cmap=cmap)\n",
    "plt.savefig(\"conv2 vs conv10.png\")\n"
   ]
  },
  {
   "cell_type": "markdown",
   "metadata": {},
   "source": [
    "## Data Loading"
   ]
  },
  {
   "cell_type": "code",
   "execution_count": null,
   "metadata": {},
   "outputs": [],
   "source": [
    "sids = [625,676,7170,798]\n",
    "model = \"large-v2-x\"\n",
    "\n",
    "def load_results(sids, model, data_dir):\n",
    "    df = pd.DataFrame()\n",
    "    for sid in sids:\n",
    "        sid_file = os.path.join(data_dir, f\"{sid}-{model}.csv\")\n",
    "        sid_df = pd.read_csv(sid_file)\n",
    "        sid_df[\"sid\"] = sid\n",
    "        df = pd.concat((df,sid_df))\n",
    "    return df\n",
    "\n",
    "data_dir = \"../data/preprocessing/20231219-second/\"\n",
    "df1 = load_results(sids, model, data_dir)\n",
    "data_dir = \"../data/preprocessing/20240115-third\"\n",
    "df = load_results(sids, model, data_dir)"
   ]
  },
  {
   "cell_type": "code",
   "execution_count": null,
   "metadata": {},
   "outputs": [],
   "source": [
    "for sid in sids:\n",
    "    df3 = df1[df1[\"sid\"] == sid]\n",
    "    df4 = df2[df2[\"sid\"] == sid]\n",
    "    df3 = df3[df3[\"wer\"] <= 2]\n",
    "    df4 = df4[df4[\"wer\"] <= 2]\n",
    "    print(len(df3), len(df4))\n",
    "    sns.set_style('whitegrid')\n",
    "    # fig, ax = plt.subplots(1,1) # histogram\n",
    "    # sns.histplot(\n",
    "    #     df3, x=\"wer\", alpha=0.7, bins=20, binrange=[0,2]\n",
    "    # )\n",
    "    # # sns.histplot(\n",
    "    # #     df4, x=\"wer\", alpha=0.5\n",
    "    # # )\n",
    "    # plt.savefig(f\"{sid}.jpeg\")\n",
    "\n",
    "    # fig, ax = plt.subplots(1,1) # scatter\n",
    "    # ax.plot([0, 1], [0, 1], transform=ax.transAxes)\n",
    "    # plt.scatter(df3[\"wer\"], df4[\"wer\"], s=5, marker=\"o\")\n",
    "    # ax.set_ylim(0,10)\n",
    "    # ax.set_xlim(0,10)\n",
    "    # ax.set_xlabel(\"Original\")\n",
    "    # ax.set_ylabel(\"Filter Inaud\")\n",
    "    # plt.savefig(f\"{sid}.jpeg\")\n",
    "\n",
    "    fig, ax = plt.subplots(1,1) # scatter\n",
    "    # ax.plot([0, 1], [0, 1], transform=ax.transAxes)\n",
    "    plt.scatter(df2[\"score_75\"], df2[\"wer\"], s=5)\n",
    "    ax.set_ylim(0,2)\n",
    "    ax.set_xlim(0.5,1)\n",
    "    ax.set_xlabel(\"Accuracy_75\")\n",
    "    ax.set_ylabel(\"WER\")\n",
    "    plt.savefig(f\"{sid}.jpeg\")"
   ]
  },
  {
   "cell_type": "code",
   "execution_count": null,
   "metadata": {},
   "outputs": [],
   "source": [
    "fig, axes = plt.subplots(4,1, figsize=(20,30))\n",
    "\n",
    "sns.boxplot(data=df1,x=\"sid\",y=\"gt_word_num\",ax=axes[0])\n",
    "sns.boxplot(data=df1,x=\"sid\",y=\"pr_word_num\",ax=axes[1])\n",
    "sns.boxplot(data=df1,x=\"sid\",y=\"gt_speaker\",ax=axes[2])\n",
    "sns.boxplot(data=df1,x=\"sid\",y=\"pr_speaker\",ax=axes[3])\n"
   ]
  },
  {
   "cell_type": "code",
   "execution_count": null,
   "metadata": {},
   "outputs": [],
   "source": [
    "df2"
   ]
  },
  {
   "cell_type": "markdown",
   "metadata": {},
   "source": [
    "## Compare with Human Transcript\n",
    "\n",
    "For whisper paper"
   ]
  },
  {
   "cell_type": "code",
   "execution_count": null,
   "metadata": {},
   "outputs": [],
   "source": [
    "paper_results = \"../data/preprocessing/paper_results.csv\"\n",
    "paper_df = pd.read_csv(paper_results)"
   ]
  },
  {
   "cell_type": "code",
   "execution_count": null,
   "metadata": {},
   "outputs": [],
   "source": [
    "print(paper_df.hu_wer.describe())\n",
    "print(paper_df.wx_wer.describe())"
   ]
  },
  {
   "cell_type": "code",
   "execution_count": null,
   "metadata": {},
   "outputs": [],
   "source": [
    "plt.close()\n",
    "fig, ax = plt.subplots(1,1)\n",
    "sns.set_style('whitegrid')\n",
    "sns.histplot(\n",
    "    paper_df[paper_df.hu_wer <= 2], x=\"hu_wer\"\n",
    ")\n",
    "sns.histplot(\n",
    "    paper_df[paper_df.hu_wer <= 2], x=\"wx_wer\"\n",
    ")\n",
    "# sns.histplot(\n",
    "#     paper_df[paper_df.hu_wer <= 2], x=\"huwx_wer\"\n",
    "# )\n",
    "plt.show()\n",
    "# plt.savefig(f\"{sid}.jpeg\")"
   ]
  },
  {
   "cell_type": "markdown",
   "metadata": {},
   "source": [
    "## Select Chunk Pilot"
   ]
  },
  {
   "cell_type": "code",
   "execution_count": null,
   "metadata": {},
   "outputs": [],
   "source": [
    "import whisper\n",
    "import scipy.io.wavfile as wavfile\n",
    "\n",
    "df_chunk = df[df.gt_word_num >= 800].copy()\n",
    "df_chunk.sort_values(by=[\"wer\"],ascending=True,inplace=True)\n",
    "# df_chunk.groupby(df_chunk.sid).first()\n",
    "selected = df_chunk.groupby(df_chunk.sid).first()\n",
    "selected.reset_index(inplace=True)"
   ]
  },
  {
   "cell_type": "markdown",
   "metadata": {},
   "source": [
    "## Select Chunk Mturk"
   ]
  },
  {
   "cell_type": "code",
   "execution_count": null,
   "metadata": {},
   "outputs": [],
   "source": [
    "# df_chunk = df[df.chunk == \"(0.0, 300.0]\"]\n",
    "# df_chunk = df_chunk[(df_chunk.gt_word_num >= 207) & (df_chunk.gt_word_num <= 622)]\n",
    "# df_chunk = df_chunk[df_chunk.sid != 798]\n",
    "# df_chunk = df_chunk.groupby(\"sid\").apply(lambda x: x.sample(n=6)).reset_index(drop = True)\n",
    "# df_chunk.wer.describe()"
   ]
  },
  {
   "cell_type": "code",
   "execution_count": null,
   "metadata": {},
   "outputs": [],
   "source": [
    "df_chunk = pd.DataFrame()\n",
    "for sid in [625,676,7170,798]:\n",
    "    df_798 = df[df.sid==sid]\n",
    "    df_798 = df_798.groupby(\"conversation\").first().reset_index()\n",
    "    df_798 = df_798.sample(n=15)\n",
    "    transcript_dir = f\"/scratch/gpfs/kw1166/whisper-transcribe/data/tfs/{sid}/\"\n",
    "    starts = []\n",
    "    for conversation in df_798.conversation.tolist():\n",
    "        trans_file = glob.glob(os.path.join(transcript_dir,f\"{conversation}*\"))\n",
    "        conv_df = pd.read_csv(\n",
    "            trans_file[0],\n",
    "            sep=\" \",\n",
    "            header=None,\n",
    "            names=[\"word\", \"onset\", \"offset\", \"accuracy\", \"speaker\"],\n",
    "        )\n",
    "        conv_df[\"start\"] = (conv_df.onset + 3000) / 512\n",
    "        conv_df[\"utt_start\"] = conv_df.speaker.ne(conv_df.speaker.shift())\n",
    "        print(conversation)\n",
    "        print(len(conv_df))\n",
    "        conv_df = conv_df[conv_df.utt_start]\n",
    "        conv_df = conv_df[conv_df.speaker == \"Speaker1\"]\n",
    "        try:\n",
    "            starts.append(math.floor(conv_df[\"start\"].iloc[0]))\n",
    "        except:\n",
    "            starts.append(-1)\n",
    "    starts = [f\"({start},3000]\" for start in starts]\n",
    "    df_798.chunk = starts\n",
    "    df_chunk = pd.concat((df_chunk, df_798))"
   ]
  },
  {
   "cell_type": "code",
   "execution_count": null,
   "metadata": {},
   "outputs": [],
   "source": [
    "df_chunk = df_chunk[~df_chunk.chunk.str.contains(\"(-1)\")]"
   ]
  },
  {
   "cell_type": "code",
   "execution_count": null,
   "metadata": {},
   "outputs": [],
   "source": [
    "# selected = pd.concat((df_chunk, df_798))\n",
    "selected = df_chunk\n",
    "selected.to_csv(\"../mturk_chunk2.csv\",index=False)"
   ]
  },
  {
   "cell_type": "code",
   "execution_count": null,
   "metadata": {},
   "outputs": [],
   "source": [
    "def load_audio(filepath):\n",
    "    fs, audio = wavfile.read(filepath)\n",
    "    print(f\"Sampling rate: {fs}\")\n",
    "    print(f\"Audio Length (s): {len(audio) / fs}\")\n",
    "    return fs, audio"
   ]
  },
  {
   "cell_type": "code",
   "execution_count": null,
   "metadata": {},
   "outputs": [],
   "source": [
    "conv_dir = \"/projects/HASSON/247/data/conversations-car/\"\n",
    "\n",
    "conversations = selected.conversation.tolist()\n",
    "chunks = selected.chunk.tolist()\n",
    "sids = selected.sid.tolist()\n",
    "for sid, conv, chunk in zip(sids, conversations, chunks):\n",
    "    chunk_onset = float(chunk[chunk.find(\"(\")+1:chunk.find(\",\")])\n",
    "    chunk_offset = float(chunk[chunk.find(\",\")+2:chunk.find(\"]\")])\n",
    "\n",
    "    print(f\"{sid} {conv} {chunk_onset} s to {chunk_offset} s\")\n",
    "    audio_path = os.path.join(conv_dir, str(sid), conv, \"audio\", f\"{conv}_deid.wav\")\n",
    "    \n",
    "    # With whisper fs\n",
    "    # audio = whisper.load_audio(audio_path)\n",
    "    # sampling_rate = 16000\n",
    "    # chunk_data = audio[\n",
    "    #     int(chunk_onset * sampling_rate) : int((chunk_onset + 30) * sampling_rate)\n",
    "    # ]\n",
    "    # new_audio = whisper.pad_or_trim(chunk_data)\n",
    "    # chunk_name = f\"../{sid}_sample_30s_wfs.wav\"\n",
    "    # wavfile.write(chunk_name, sampling_rate, chunk_data)\n",
    "\n",
    "    # With original fs\n",
    "    sampling_rate, full_audio = load_audio(audio_path)\n",
    "    chunk_data2 = full_audio[\n",
    "        int(chunk_onset * sampling_rate) : int((chunk_onset + 30) * sampling_rate)\n",
    "    ]\n",
    "    chunk_name = f\"../{sid}_{conv}.wav\"\n",
    "    wavfile.write(chunk_name, sampling_rate, chunk_data2)"
   ]
  },
  {
   "cell_type": "markdown",
   "metadata": {},
   "source": [
    "## Plot mturk results"
   ]
  },
  {
   "cell_type": "code",
   "execution_count": null,
   "metadata": {},
   "outputs": [],
   "source": [
    "datafile = \"/projects/HASSON/247/data/mturk/2024-02-09-wer-results/Alltask_eval.csv\"\n",
    "mturk_df = pd.read_csv(datafile)\n",
    "first_df = mturk_df[mturk_df.attempt == \"first\"].reset_index()\n",
    "second_df = mturk_df[mturk_df.attempt == \"second\"].reset_index()\n",
    "pdf = PdfPages(\"../mturk_results.pdf\")"
   ]
  },
  {
   "cell_type": "markdown",
   "metadata": {},
   "source": [
    "### Histograms"
   ]
  },
  {
   "cell_type": "code",
   "execution_count": null,
   "metadata": {},
   "outputs": [],
   "source": [
    "df_plot_whisper = pd.DataFrame({\"WER\":second_df.whisper, \"type\":\"whisper\"})\n",
    "df_plot_hu1 = pd.DataFrame({\"WER\":second_df.hu1, \"type\":\"human 1\"})\n",
    "df_plot_hu2 = pd.DataFrame({\"WER\":second_df.hu2, \"type\":\"human 2\"})\n",
    "df_plot = pd.concat((df_plot_whisper,df_plot_hu1,df_plot_hu2))\n",
    "df_plot\n",
    "\n",
    "fig, ax = plt.subplots()\n",
    "sns.histplot(df_plot, x=\"WER\",hue=\"type\", palette=\"hls\", bins=20, ec=None, ax=ax)\n",
    "pdf.savefig(fig)\n",
    "plt.close()\n",
    "fig, ax = plt.subplots()\n",
    "sns.histplot(df_plot, x=\"WER\",hue=\"type\", palette=\"hls\", bins=50, ec=None, ax=ax)\n",
    "pdf.savefig(fig)\n",
    "plt.close()"
   ]
  },
  {
   "cell_type": "markdown",
   "metadata": {},
   "source": [
    "### Scatter plots"
   ]
  },
  {
   "cell_type": "code",
   "execution_count": null,
   "metadata": {},
   "outputs": [],
   "source": [
    "fig, ax = plt.subplots()\n",
    "ax.plot([0, 1], [0, 1], transform=ax.transAxes)\n",
    "plt.scatter(second_df[\"whisper\"], second_df[\"hu1\"], s=10)\n",
    "ax.set_title(\"Whisper vs Hu1\")\n",
    "ax.set_xlabel(\"Whisper WER\")\n",
    "ax.set_ylabel(\"Human 2 WER\")\n",
    "pdf.savefig(fig)\n",
    "plt.close()\n",
    "\n",
    "fig, ax = plt.subplots()\n",
    "ax.plot([0, 1], [0, 1], transform=ax.transAxes)\n",
    "plt.scatter(second_df[\"whisper\"], second_df[\"hu2\"], s=10)\n",
    "ax.set_title(\"Whisper vs Hu2\")\n",
    "ax.set_xlabel(\"Whisper WER\")\n",
    "ax.set_ylabel(\"Human 2 WER\")\n",
    "pdf.savefig(fig)\n",
    "plt.close()"
   ]
  },
  {
   "cell_type": "code",
   "execution_count": null,
   "metadata": {},
   "outputs": [],
   "source": [
    "df_plot_hu1 = pd.DataFrame({\"WER1\":first_df.hu1,\"WER2\":second_df.hu1, \"certainty1\":first_df.hu1_acc, \"certainty2\":second_df.hu1_acc, \"comp1\":first_df.hu1_comp, \"comp2\":second_df.hu1_comp})\n",
    "df_plot_hu2 = pd.DataFrame({\"WER1\":first_df.hu2,\"WER2\":second_df.hu2, \"certainty1\":first_df.hu2_acc, \"certainty2\":second_df.hu2_acc, \"comp1\":first_df.hu2_comp, \"comp2\":second_df.hu2_comp})\n",
    "df_plot = pd.concat((df_plot_hu1,df_plot_hu2))\n",
    "\n",
    "fig, ax = plt.subplots()\n",
    "plt.scatter(df_plot[\"certainty2\"], df_plot[\"WER2\"], s=10)\n",
    "ax.set_title(\"WER vs certainty\")\n",
    "ax.set_xlabel(\"Certainty\")\n",
    "ax.set_ylabel(\"Human WER\")\n",
    "pdf.savefig(fig)\n",
    "plt.close()\n",
    "\n",
    "fig, ax = plt.subplots()\n",
    "plt.scatter(df_plot[\"comp2\"], df_plot[\"WER2\"], s=10)\n",
    "ax.set_title(\"WER vs comprehension\")\n",
    "ax.set_xlabel(\"Comprehension\")\n",
    "ax.set_ylabel(\"Human WER\")\n",
    "pdf.savefig(fig)\n",
    "plt.close()"
   ]
  },
  {
   "cell_type": "code",
   "execution_count": null,
   "metadata": {},
   "outputs": [],
   "source": [
    "fig, ax = plt.subplots()\n",
    "plt.scatter(df_plot[\"certainty1\"]-df_plot[\"certainty2\"], df_plot[\"WER1\"]-df_plot[\"WER2\"], s=10)\n",
    "ax.set_title(\"WER diff vs certainty diff\")\n",
    "ax.set_xlabel(\"Certainty decrease over two trials\")\n",
    "ax.set_ylabel(\"Human WER decrease over two trials\")\n",
    "pdf.savefig(fig)\n",
    "plt.close()\n",
    "\n",
    "fig, ax = plt.subplots()\n",
    "plt.scatter(df_plot[\"comp1\"]-df_plot[\"comp2\"], df_plot[\"WER1\"]-df_plot[\"WER2\"], s=10)\n",
    "ax.set_title(\"WER diff vs comprehension diff\")\n",
    "ax.set_xlabel(\"Comprehension decrease over two trials\")\n",
    "ax.set_ylabel(\"Human WER decrease over two trials\")\n",
    "pdf.savefig(fig)\n",
    "plt.close()"
   ]
  },
  {
   "cell_type": "code",
   "execution_count": null,
   "metadata": {},
   "outputs": [],
   "source": [
    "pdf.close()"
   ]
  }
 ],
 "metadata": {
  "kernelspec": {
   "display_name": "Python 3",
   "language": "python",
   "name": "python3"
  },
  "language_info": {
   "codemirror_mode": {
    "name": "ipython",
    "version": 3
   },
   "file_extension": ".py",
   "mimetype": "text/x-python",
   "name": "python",
   "nbconvert_exporter": "python",
   "pygments_lexer": "ipython3",
   "version": "3.10.4"
  }
 },
 "nbformat": 4,
 "nbformat_minor": 2
}
